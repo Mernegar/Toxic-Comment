{
 "cells": [
  {
   "cell_type": "markdown",
   "metadata": {},
   "source": [
    "### Importing dependencies"
   ]
  },
  {
   "cell_type": "code",
   "execution_count": 170,
   "metadata": {},
   "outputs": [],
   "source": [
    "import pandas as pd\n",
    "import numpy as np\n",
    "import matplotlib.pyplot as plt\n",
    "import re\n",
    "import seaborn as sns\n",
    "import nltk\n",
    "import contractions\n",
    "import unicodedata\n",
    "import spacy\n",
    "from sklearn import metrics\n",
    "\n",
    "%matplotlib inline"
   ]
  },
  {
   "cell_type": "code",
   "execution_count": 11,
   "metadata": {},
   "outputs": [],
   "source": [
    "df_train = pd.read_csv('train-dataset.csv')\n",
    "df_test = pd.read_csv('hold-out.csv')"
   ]
  },
  {
   "cell_type": "code",
   "execution_count": 8,
   "metadata": {},
   "outputs": [
    {
     "data": {
      "text/html": [
       "<div>\n",
       "<style scoped>\n",
       "    .dataframe tbody tr th:only-of-type {\n",
       "        vertical-align: middle;\n",
       "    }\n",
       "\n",
       "    .dataframe tbody tr th {\n",
       "        vertical-align: top;\n",
       "    }\n",
       "\n",
       "    .dataframe thead th {\n",
       "        text-align: right;\n",
       "    }\n",
       "</style>\n",
       "<table border=\"1\" class=\"dataframe\">\n",
       "  <thead>\n",
       "    <tr style=\"text-align: right;\">\n",
       "      <th></th>\n",
       "      <th>comment</th>\n",
       "      <th>offensive</th>\n",
       "      <th>toxic</th>\n",
       "      <th>severe_toxic</th>\n",
       "      <th>obscene</th>\n",
       "      <th>threat</th>\n",
       "      <th>insult</th>\n",
       "      <th>identity_hate</th>\n",
       "    </tr>\n",
       "  </thead>\n",
       "  <tbody>\n",
       "    <tr>\n",
       "      <th>0</th>\n",
       "      <td>nonsense kiss geek say true account terminate</td>\n",
       "      <td>1</td>\n",
       "      <td>1</td>\n",
       "      <td>0</td>\n",
       "      <td>0</td>\n",
       "      <td>0</td>\n",
       "      <td>0</td>\n",
       "      <td>0</td>\n",
       "    </tr>\n",
       "    <tr>\n",
       "      <th>1</th>\n",
       "      <td>please not vandalize page edit w merwin contin...</td>\n",
       "      <td>0</td>\n",
       "      <td>0</td>\n",
       "      <td>0</td>\n",
       "      <td>0</td>\n",
       "      <td>0</td>\n",
       "      <td>0</td>\n",
       "      <td>0</td>\n",
       "    </tr>\n",
       "    <tr>\n",
       "      <th>2</th>\n",
       "      <td>point interest remove point interest section a...</td>\n",
       "      <td>0</td>\n",
       "      <td>0</td>\n",
       "      <td>0</td>\n",
       "      <td>0</td>\n",
       "      <td>0</td>\n",
       "      <td>0</td>\n",
       "      <td>0</td>\n",
       "    </tr>\n",
       "    <tr>\n",
       "      <th>3</th>\n",
       "      <td>ask nationality racial offence wow not aware b...</td>\n",
       "      <td>0</td>\n",
       "      <td>0</td>\n",
       "      <td>0</td>\n",
       "      <td>0</td>\n",
       "      <td>0</td>\n",
       "      <td>0</td>\n",
       "      <td>0</td>\n",
       "    </tr>\n",
       "    <tr>\n",
       "      <th>4</th>\n",
       "      <td>reader not go say ethereal vocal style dark ly...</td>\n",
       "      <td>0</td>\n",
       "      <td>0</td>\n",
       "      <td>0</td>\n",
       "      <td>0</td>\n",
       "      <td>0</td>\n",
       "      <td>0</td>\n",
       "      <td>0</td>\n",
       "    </tr>\n",
       "  </tbody>\n",
       "</table>\n",
       "</div>"
      ],
      "text/plain": [
       "                                             comment  offensive  toxic  \\\n",
       "0      nonsense kiss geek say true account terminate          1      1   \n",
       "1  please not vandalize page edit w merwin contin...          0      0   \n",
       "2  point interest remove point interest section a...          0      0   \n",
       "3  ask nationality racial offence wow not aware b...          0      0   \n",
       "4  reader not go say ethereal vocal style dark ly...          0      0   \n",
       "\n",
       "   severe_toxic  obscene  threat  insult  identity_hate  \n",
       "0             0        0       0       0              0  \n",
       "1             0        0       0       0              0  \n",
       "2             0        0       0       0              0  \n",
       "3             0        0       0       0              0  \n",
       "4             0        0       0       0              0  "
      ]
     },
     "execution_count": 8,
     "metadata": {},
     "output_type": "execute_result"
    }
   ],
   "source": [
    "df_train.head()"
   ]
  },
  {
   "cell_type": "code",
   "execution_count": 28,
   "metadata": {},
   "outputs": [
    {
     "data": {
      "text/html": [
       "<div>\n",
       "<style scoped>\n",
       "    .dataframe tbody tr th:only-of-type {\n",
       "        vertical-align: middle;\n",
       "    }\n",
       "\n",
       "    .dataframe tbody tr th {\n",
       "        vertical-align: top;\n",
       "    }\n",
       "\n",
       "    .dataframe thead th {\n",
       "        text-align: right;\n",
       "    }\n",
       "</style>\n",
       "<table border=\"1\" class=\"dataframe\">\n",
       "  <thead>\n",
       "    <tr style=\"text-align: right;\">\n",
       "      <th></th>\n",
       "      <th>comment</th>\n",
       "      <th>offensive</th>\n",
       "      <th>toxic</th>\n",
       "      <th>severe_toxic</th>\n",
       "      <th>obscene</th>\n",
       "      <th>threat</th>\n",
       "      <th>insult</th>\n",
       "      <th>identity_hate</th>\n",
       "    </tr>\n",
       "  </thead>\n",
       "  <tbody>\n",
       "    <tr>\n",
       "      <th>0</th>\n",
       "      <td>revert constitute vandalism revert please not ...</td>\n",
       "      <td>0</td>\n",
       "      <td>0</td>\n",
       "      <td>0</td>\n",
       "      <td>0</td>\n",
       "      <td>0</td>\n",
       "      <td>0</td>\n",
       "      <td>0</td>\n",
       "    </tr>\n",
       "    <tr>\n",
       "      <th>1</th>\n",
       "      <td>call someone petty tyrant personal attack kind...</td>\n",
       "      <td>0</td>\n",
       "      <td>0</td>\n",
       "      <td>0</td>\n",
       "      <td>0</td>\n",
       "      <td>0</td>\n",
       "      <td>0</td>\n",
       "      <td>0</td>\n",
       "    </tr>\n",
       "    <tr>\n",
       "      <th>2</th>\n",
       "      <td>article manage become ga thank work hope use e...</td>\n",
       "      <td>0</td>\n",
       "      <td>0</td>\n",
       "      <td>0</td>\n",
       "      <td>0</td>\n",
       "      <td>0</td>\n",
       "      <td>0</td>\n",
       "      <td>0</td>\n",
       "    </tr>\n",
       "    <tr>\n",
       "      <th>3</th>\n",
       "      <td>hey mr troll not learn word vandalism mean bet...</td>\n",
       "      <td>1</td>\n",
       "      <td>1</td>\n",
       "      <td>0</td>\n",
       "      <td>1</td>\n",
       "      <td>0</td>\n",
       "      <td>0</td>\n",
       "      <td>0</td>\n",
       "    </tr>\n",
       "    <tr>\n",
       "      <th>4</th>\n",
       "      <td>miscellaneous section look like basically list...</td>\n",
       "      <td>0</td>\n",
       "      <td>0</td>\n",
       "      <td>0</td>\n",
       "      <td>0</td>\n",
       "      <td>0</td>\n",
       "      <td>0</td>\n",
       "      <td>0</td>\n",
       "    </tr>\n",
       "  </tbody>\n",
       "</table>\n",
       "</div>"
      ],
      "text/plain": [
       "                                             comment  offensive  toxic  \\\n",
       "0  revert constitute vandalism revert please not ...          0      0   \n",
       "1  call someone petty tyrant personal attack kind...          0      0   \n",
       "2  article manage become ga thank work hope use e...          0      0   \n",
       "3  hey mr troll not learn word vandalism mean bet...          1      1   \n",
       "4  miscellaneous section look like basically list...          0      0   \n",
       "\n",
       "   severe_toxic  obscene  threat  insult  identity_hate  \n",
       "0             0        0       0       0              0  \n",
       "1             0        0       0       0              0  \n",
       "2             0        0       0       0              0  \n",
       "3             0        1       0       0              0  \n",
       "4             0        0       0       0              0  "
      ]
     },
     "execution_count": 28,
     "metadata": {},
     "output_type": "execute_result"
    }
   ],
   "source": [
    "df_test.head()"
   ]
  },
  {
   "cell_type": "code",
   "execution_count": 14,
   "metadata": {},
   "outputs": [
    {
     "data": {
      "text/plain": [
       "comment          9\n",
       "offensive        0\n",
       "toxic            0\n",
       "severe_toxic     0\n",
       "obscene          0\n",
       "threat           0\n",
       "insult           0\n",
       "identity_hate    0\n",
       "dtype: int64"
      ]
     },
     "execution_count": 14,
     "metadata": {},
     "output_type": "execute_result"
    }
   ],
   "source": [
    "df_test.isnull().sum()"
   ]
  },
  {
   "cell_type": "code",
   "execution_count": 27,
   "metadata": {},
   "outputs": [],
   "source": [
    "df_test = df_test[~(df_test['comment'].isnull())]"
   ]
  },
  {
   "cell_type": "markdown",
   "metadata": {},
   "source": [
    "### Load and View Dataset"
   ]
  },
  {
   "cell_type": "code",
   "execution_count": 47,
   "metadata": {},
   "outputs": [],
   "source": [
    "X_train = df_train['comment']\n",
    "X_test = df_test['comment'][:10000]\n",
    "\n",
    "y_train = df_train['offensive']\n",
    "y_test = df_test['offensive'][:10000]"
   ]
  },
  {
   "cell_type": "markdown",
   "metadata": {},
   "source": [
    "### Feature Engineering with word embeddings"
   ]
  },
  {
   "cell_type": "code",
   "execution_count": 299,
   "metadata": {},
   "outputs": [
    {
     "name": "stdout",
     "output_type": "stream",
     "text": [
      "CPU times: user 960 ms, sys: 316 ms, total: 1.28 s\n",
      "Wall time: 1.81 s\n"
     ]
    }
   ],
   "source": [
    "%%time\n",
    "\n",
    "from sklearn.feature_extraction.text import CountVectorizer\n",
    "\n",
    "vect = CountVectorizer(binary=False, min_df=5, max_df=1.0)\n",
    "\n",
    "vect_train_matrix = vect.fit_transform(X_train)\n",
    "vect_test_matrix = vect.transform(X_test)"
   ]
  },
  {
   "cell_type": "code",
   "execution_count": 33,
   "metadata": {},
   "outputs": [
    {
     "name": "stdout",
     "output_type": "stream",
     "text": [
      "CPU times: user 875 ms, sys: 22.7 ms, total: 898 ms\n",
      "Wall time: 897 ms\n"
     ]
    }
   ],
   "source": [
    "%%time\n",
    "\n",
    "from sklearn.feature_extraction.text import TfidfVectorizer\n",
    "\n",
    "tfid = TfidfVectorizer(use_idf=True, min_df=5, max_df=1.0)\n",
    "\n",
    "tfid_train_matrix = tfid.fit_transform(X_train)\n",
    "tfid_test_matrix = tfid.transform(X_test)"
   ]
  },
  {
   "cell_type": "code",
   "execution_count": 87,
   "metadata": {},
   "outputs": [
    {
     "name": "stdout",
     "output_type": "stream",
     "text": [
      "Bag of words training dataset 1-gram features 7809\n",
      "Bag of words test dataset 1-gram features 7809\n",
      "Tfidf training dataset 1-gram features 7809\n",
      "Tfidd of words training dataset 1-gram features 7809\n"
     ]
    }
   ],
   "source": [
    "print(\"Bag of words training dataset 1-gram features\" , vect_train_matrix.shape[1])\n",
    "print(\"Bag of words test dataset 1-gram features\" , vect_test_matrix.shape[1])\n",
    "\n",
    "print (\"Tfidf training dataset 1-gram features\" , tfid_train_matrix.shape[1])\n",
    "print (\"Tfidd of words training dataset 1-gram features\" , tfid_train_matrix.shape[1])"
   ]
  },
  {
   "cell_type": "markdown",
   "metadata": {},
   "source": [
    "### Training Logistic Regression Model"
   ]
  },
  {
   "cell_type": "markdown",
   "metadata": {},
   "source": [
    "Before we start training the models we need to identify our main evaluation metrics. **Our goal here is to label the offensive comments correctly.** So, this model requires the **least possible False Negative labels** and checking accuracy by itself is not enoguh to evaluate the performance of the model. In addition to accuracy we need to evaluate the rate of False Negatives by checking **Recall.**  "
   ]
  },
  {
   "cell_type": "markdown",
   "metadata": {},
   "source": [
    " "
   ]
  },
  {
   "cell_type": "code",
   "execution_count": 300,
   "metadata": {},
   "outputs": [
    {
     "name": "stdout",
     "output_type": "stream",
     "text": [
      "CPU times: user 2.29 s, sys: 99.5 ms, total: 2.39 s\n",
      "Wall time: 718 ms\n"
     ]
    }
   ],
   "source": [
    "%%time\n",
    "\n",
    "from sklearn.linear_model import LogisticRegression\n",
    "\n",
    "lr = LogisticRegression(penalty='l2', max_iter=500, C=1, solver='lbfgs')\n",
    "\n",
    "lr.fit(vect_train_matrix, y_train)\n",
    "\n",
    "lr_bow_prediction = lr.predict(vect_test_matrix)"
   ]
  },
  {
   "cell_type": "code",
   "execution_count": 301,
   "metadata": {},
   "outputs": [
    {
     "name": "stdout",
     "output_type": "stream",
     "text": [
      "0.9486\n",
      "[[8886  103]\n",
      " [ 411  600]]\n",
      "F1 score:  0.7001166861143523\n",
      "Precision score:  0.8534850640113798\n",
      "Recall score:  0.5934718100890207\n"
     ]
    }
   ],
   "source": [
    "print (metrics.accuracy_score(y_test , lr_bow_prediction))\n",
    "\n",
    "print (metrics.confusion_matrix(y_test , lr_bow_prediction))\n",
    "\n",
    "print(\"F1 score: \", metrics.f1_score(y_test , lr_bow_prediction))\n",
    "\n",
    "print(\"Precision score: \" , metrics.precision_score(y_test , lr_bow_prediction))\n",
    "\n",
    "print(\"Recall score: \" , metrics.recall_score(y_test , lr_bow_prediction))"
   ]
  },
  {
   "cell_type": "code",
   "execution_count": 229,
   "metadata": {},
   "outputs": [
    {
     "name": "stdout",
     "output_type": "stream",
     "text": [
      "0.9431\n",
      "[[8970   19]\n",
      " [ 550  461]]\n",
      "F1 score:  0.6183769282360831\n",
      "Precision score:  0.9604166666666667\n",
      "Recall score:  0.4559841740850643\n",
      "CPU times: user 887 ms, sys: 20.5 ms, total: 908 ms\n",
      "Wall time: 261 ms\n"
     ]
    }
   ],
   "source": [
    "%%time\n",
    "\n",
    "lr.fit(tfid_train_matrix, y_train)\n",
    "\n",
    "lr_tfid_prediction = lr.predict(tfid_test_matrix)\n",
    "\n",
    "print (metrics.accuracy_score(y_test , lr_tfid_prediction))\n",
    "\n",
    "print (metrics.confusion_matrix(y_test , lr_tfid_prediction))\n",
    "\n",
    "print(\"F1 score: \", metrics.f1_score(y_test , lr_tfid_prediction))\n",
    "\n",
    "print(\"Precision score: \" , metrics.precision_score(y_test , lr_tfid_prediction))\n",
    "\n",
    "print(\"Recall score: \" , metrics.recall_score(y_test , lr_tfid_prediction))"
   ]
  },
  {
   "cell_type": "markdown",
   "metadata": {},
   "source": [
    "### Comparing performance of Logistic Regression with Bag of Words and Tf-idf shows Bag of Words performs better with Logistice Regression. Continuing optimizing of Logistic Regression with Bag of words. "
   ]
  },
  {
   "cell_type": "code",
   "execution_count": 231,
   "metadata": {},
   "outputs": [
    {
     "name": "stdout",
     "output_type": "stream",
     "text": [
      "0.8966\n",
      "[[8234  755]\n",
      " [ 279  732]]\n",
      "F1 score:  0.5860688550840673\n",
      "Precision score:  0.49226630800269\n",
      "Recall score:  0.7240356083086054\n",
      "CPU times: user 7.37 s, sys: 59.6 ms, total: 7.43 s\n",
      "Wall time: 3.87 s\n"
     ]
    }
   ],
   "source": [
    "%%time\n",
    "\n",
    "from imblearn.over_sampling import SMOTE\n",
    "\n",
    "from sklearn.pipeline import make_pipeline\n",
    "from imblearn.pipeline import make_pipeline as make_pipeline_imb\n",
    "\n",
    "smote_pipeline = make_pipeline_imb(SMOTE(sampling_strategy= .5) , lr)\n",
    "\n",
    "smote_model = smote_pipeline.fit(vect_train_matrix , y_train)\n",
    "\n",
    "smote_predict = smote_model.predict(vect_test_matrix)\n",
    "\n",
    "print (metrics.accuracy_score(y_test , smote_predict))\n",
    "\n",
    "print (metrics.confusion_matrix(y_test , smote_predict))\n",
    "\n",
    "print(\"F1 score: \", metrics.f1_score(y_test , smote_predict))\n",
    "\n",
    "print(\"Precision score: \" , metrics.precision_score(y_test , smote_predict))\n",
    "\n",
    "print(\"Recall score: \" , metrics.recall_score(y_test , smote_predict))"
   ]
  },
  {
   "cell_type": "markdown",
   "metadata": {},
   "source": [
    "### Imbalance datasets can lead to false predictions and false sense of accuracy. One of the approaches to balance the classes is by increasing the minority or decreasing the majority samples in our model. Here we chose to oversample the class 1 or offensive comments via  SMOTE. As you see we have a significant improvement on Recall and number of False Negative labels. "
   ]
  },
  {
   "cell_type": "markdown",
   "metadata": {},
   "source": [
    " "
   ]
  },
  {
   "cell_type": "markdown",
   "metadata": {},
   "source": [
    "### Training Random Forest Model"
   ]
  },
  {
   "cell_type": "code",
   "execution_count": 228,
   "metadata": {},
   "outputs": [
    {
     "name": "stderr",
     "output_type": "stream",
     "text": [
      "/anaconda3/lib/python3.7/site-packages/sklearn/ensemble/forest.py:246: FutureWarning: The default value of n_estimators will change from 10 in version 0.20 to 100 in 0.22.\n",
      "  \"10 in version 0.20 to 100 in 0.22.\", FutureWarning)\n"
     ]
    },
    {
     "name": "stdout",
     "output_type": "stream",
     "text": [
      "0.9485\n",
      "[[8878  111]\n",
      " [ 404  607]]\n",
      "F1 score:  0.70213996529786\n",
      "Precision score:  0.8454038997214485\n",
      "Recall score:  0.6003956478733927\n"
     ]
    }
   ],
   "source": [
    "from sklearn.ensemble import RandomForestClassifier\n",
    "from sklearn.model_selection import GridSearchCV\n",
    "\n",
    "rfc = RandomForestClassifier()\n",
    "\n",
    "rfc_bow_pipe = make_pipeline(vect , rfc)\n",
    "\n",
    "rfc_bow_pipe.fit(X_train , y_train)\n",
    "\n",
    "rfc_bow_prediction = rfc_bow_pipe.predict(X_test)\n",
    "\n",
    "print (metrics.accuracy_score(y_test , rfc_bow_prediction))\n",
    "\n",
    "print (metrics.confusion_matrix(y_test , rfc_bow_prediction))\n",
    "\n",
    "print(\"F1 score: \", metrics.f1_score(y_test , rfc_bow_prediction))\n",
    "\n",
    "print(\"Precision score: \" , metrics.precision_score(y_test , rfc_bow_prediction))\n",
    "\n",
    "print(\"Recall score: \" , metrics.recall_score(y_test , rfc_bow_prediction))"
   ]
  },
  {
   "cell_type": "markdown",
   "metadata": {},
   "source": [
    "### Hyper-parameter tuning to optimize Random Forest through Randoomized Search"
   ]
  },
  {
   "cell_type": "code",
   "execution_count": 111,
   "metadata": {},
   "outputs": [],
   "source": [
    "#Number of trees in random forest\n",
    "n_estimators = [int(x) for x in np.linspace(start = 200, stop = 2000, num = 10)]\n",
    "# Number of features to consider at every split\n",
    "max_features = ['auto', 'sqrt']\n",
    "# Maximum number of levels in tree\n",
    "max_depth = [int(x) for x in np.linspace(10, 110, num = 11)]\n",
    "max_depth.append(None)\n",
    "# Minimum number of samples required to split a node\n",
    "min_samples_split = [2, 5, 10]\n",
    "# Minimum number of samples required at each leaf node\n",
    "min_samples_leaf = [1, 2, 4]\n",
    "# Method of selecting samples for training each tree\n",
    "bootstrap = [True, False]\n",
    "# Create the random grid\n",
    "param_grid = {'n_estimators': n_estimators,\n",
    "               'max_features': max_features,\n",
    "               'max_depth': max_depth,\n",
    "               'min_samples_split': min_samples_split,\n",
    "               'min_samples_leaf': min_samples_leaf,\n",
    "               'bootstrap': bootstrap}"
   ]
  },
  {
   "cell_type": "code",
   "execution_count": 113,
   "metadata": {},
   "outputs": [
    {
     "name": "stdout",
     "output_type": "stream",
     "text": [
      "CPU times: user 4min 43s, sys: 859 ms, total: 4min 44s\n",
      "Wall time: 4min 45s\n"
     ]
    }
   ],
   "source": [
    "%%time\n",
    "\n",
    "from sklearn.model_selection import RandomizedSearchCV\n",
    "\n",
    "random = RandomizedSearchCV(rfc , param_grid , n_iter = 3 , cv = 3)\n",
    "\n",
    "random.fit(vect_train_matrix , y_train)"
   ]
  },
  {
   "cell_type": "code",
   "execution_count": 115,
   "metadata": {},
   "outputs": [
    {
     "data": {
      "text/plain": [
       "{'n_estimators': 800,\n",
       " 'min_samples_split': 10,\n",
       " 'min_samples_leaf': 2,\n",
       " 'max_features': 'auto',\n",
       " 'max_depth': None,\n",
       " 'bootstrap': False}"
      ]
     },
     "execution_count": 115,
     "metadata": {},
     "output_type": "execute_result"
    }
   ],
   "source": [
    "random.best_params_"
   ]
  },
  {
   "cell_type": "code",
   "execution_count": 215,
   "metadata": {},
   "outputs": [
    {
     "name": "stdout",
     "output_type": "stream",
     "text": [
      "0.9495\n",
      "[[8955   34]\n",
      " [ 471  540]]\n",
      "F1 score:  0.6813880126182965\n",
      "Precision score:  0.9407665505226481\n",
      "Recall score:  0.5341246290801187\n",
      "CPU times: user 49.5 s, sys: 202 ms, total: 49.7 s\n",
      "Wall time: 49.8 s\n"
     ]
    }
   ],
   "source": [
    "%%time\n",
    "\n",
    "rfc = RandomForestClassifier(n_estimators= 800, min_samples_split = 10,min_samples_leaf = 2,\n",
    "                             max_features = 'auto' , max_depth = None, bootstrap = False)\n",
    "\n",
    "\n",
    "rfc_bow_pipe = make_pipeline(vect , rfc)\n",
    "\n",
    "rfc_bow_pipe.fit(X_train , y_train)\n",
    "\n",
    "rfc_bow_prediction = rfc_bow_pipe.predict(X_test)\n",
    "\n",
    "print (metrics.accuracy_score(y_test , rfc_bow_prediction))\n",
    "\n",
    "print (metrics.confusion_matrix(y_test , rfc_bow_prediction))\n",
    "\n",
    "print(\"F1 score: \", metrics.f1_score(y_test , rfc_bow_prediction))\n",
    "\n",
    "print(\"Precision score: \" , metrics.precision_score(y_test , rfc_bow_prediction))\n",
    "\n",
    "print (\"Recall score: \" , metrics.recall_score(y_test , rfc_bow_prediction))"
   ]
  },
  {
   "cell_type": "code",
   "execution_count": 227,
   "metadata": {},
   "outputs": [
    {
     "name": "stdout",
     "output_type": "stream",
     "text": [
      "0.9528\n",
      "[[8930   59]\n",
      " [ 413  598]]\n",
      "F1 score:  0.7170263788968825\n",
      "Precision score:  0.9101978691019786\n",
      "Recall score:  0.5914935707220573\n",
      "CPU times: user 1min 11s, sys: 173 ms, total: 1min 11s\n",
      "Wall time: 1min 11s\n"
     ]
    }
   ],
   "source": [
    "%%time\n",
    "\n",
    "rfc = RandomForestClassifier(n_estimators= 800, min_samples_split = 10,min_samples_leaf = 2,\n",
    "                             max_features = 'auto' , max_depth = None, bootstrap = False)\n",
    "\n",
    "\n",
    "rfc_tfid_pipe = make_pipeline(tfid , rfc)\n",
    "\n",
    "rfc_tfid_pipe.fit(X_train , y_train)\n",
    "\n",
    "rfc_tfid_prediction = rfc_tfid_pipe.predict(X_test)\n",
    "\n",
    "print (metrics.accuracy_score(y_test , rfc_tfid_prediction))\n",
    "\n",
    "print (metrics.confusion_matrix(y_test , rfc_tfid_prediction))\n",
    "\n",
    "print(\"F1 score: \", metrics.f1_score(y_test , rfc_tfid_prediction))\n",
    "\n",
    "print(\"Precision score: \" , metrics.precision_score(y_test , rfc_tfid_prediction))\n",
    "\n",
    "print(\"Recall score: \" , metrics.recall_score(y_test , rfc_tfid_prediction))"
   ]
  },
  {
   "cell_type": "markdown",
   "metadata": {},
   "source": [
    "### Tuned Random Forest model works better with Tf-idf. Yet, in the best case it dooesn't out perform Logistic Regression. "
   ]
  },
  {
   "cell_type": "markdown",
   "metadata": {},
   "source": [
    " "
   ]
  },
  {
   "cell_type": "markdown",
   "metadata": {},
   "source": [
    "### Training Naïve Bayes Model"
   ]
  },
  {
   "cell_type": "code",
   "execution_count": 197,
   "metadata": {},
   "outputs": [
    {
     "data": {
      "text/plain": [
       "RandomizedSearchCV(cv=5, error_score='raise-deprecating',\n",
       "          estimator=Pipeline(memory=None,\n",
       "     steps=[('countvectorizer', CountVectorizer(analyzer='word', binary=False, decode_error='strict',\n",
       "        dtype=<class 'numpy.int64'>, encoding='utf-8', input='content',\n",
       "        lowercase=True, max_df=1.0, max_features=None, min_df=5,\n",
       "        ngram_range=(1, 1), p..., vocabulary=None)), ('multinomialnb', MultinomialNB(alpha=0.5, class_prior=None, fit_prior=True))]),\n",
       "          fit_params=None, iid='warn', n_iter=10, n_jobs=None,\n",
       "          param_distributions={'multinomialnb__alpha': <scipy.stats._distn_infrastructure.rv_frozen object at 0x1a482872b0>},\n",
       "          pre_dispatch='2*n_jobs', random_state=None, refit=True,\n",
       "          return_train_score='warn', scoring='f1', verbose=0)"
      ]
     },
     "execution_count": 197,
     "metadata": {},
     "output_type": "execute_result"
    }
   ],
   "source": [
    "import scipy as sp\n",
    "\n",
    "from sklearn.naive_bayes import MultinomialNB\n",
    "\n",
    "nb = MultinomialNB()\n",
    "\n",
    "nb_bow_pipe = make_pipeline(vect , nb)\n",
    "\n",
    "param_grid= {\n",
    "    'multinomialnb__alpha' : sp.stats.uniform(scale = 1)\n",
    "}\n",
    "\n",
    "nb_bow_pipe = make_pipeline(vect , nb)\n",
    "\n",
    "random = RandomizedSearchCV(nb_bow_pipe , param_grid , cv = 5 , scoring = 'f1')\n",
    "\n",
    "random.fit(X_train, y_train)"
   ]
  },
  {
   "cell_type": "code",
   "execution_count": 198,
   "metadata": {},
   "outputs": [
    {
     "data": {
      "text/plain": [
       "0.7154603178966132"
      ]
     },
     "execution_count": 198,
     "metadata": {},
     "output_type": "execute_result"
    }
   ],
   "source": [
    "random.best_score_"
   ]
  },
  {
   "cell_type": "code",
   "execution_count": 199,
   "metadata": {},
   "outputs": [
    {
     "data": {
      "text/plain": [
       "{'multinomialnb__alpha': 0.7017405572309684}"
      ]
     },
     "execution_count": 199,
     "metadata": {},
     "output_type": "execute_result"
    }
   ],
   "source": [
    "random.best_params_"
   ]
  },
  {
   "cell_type": "code",
   "execution_count": 226,
   "metadata": {},
   "outputs": [
    {
     "name": "stdout",
     "output_type": "stream",
     "text": [
      "0.9446\n",
      "[[8767  222]\n",
      " [ 332  679]]\n",
      "F1 score:  0.7102510460251047\n",
      "Precision score:  0.753607103218646\n",
      "Recall score:  0.6716122650840751\n"
     ]
    }
   ],
   "source": [
    "nb = MultinomialNB(alpha= 0.701)\n",
    "\n",
    "nb_bow_pipe = make_pipeline(vect , nb)\n",
    "\n",
    "nb_bow_pipe.fit(X_train , y_train)\n",
    "\n",
    "nb_bow_predction = nb_bow_pipe.predict(X_test)\n",
    "\n",
    "print (metrics.accuracy_score(y_test , nb_bow_predction))\n",
    "\n",
    "print (metrics.confusion_matrix(y_test , nb_bow_predction))\n",
    "\n",
    "print(\"F1 score: \", metrics.f1_score(y_test , nb_bow_predction))\n",
    "\n",
    "print(\"Precision score: \" , metrics.precision_score(y_test , nb_bow_predction))\n",
    "\n",
    "print(\"Recall score: \" , metrics.recall_score(y_test , nb_bow_predction))"
   ]
  },
  {
   "cell_type": "markdown",
   "metadata": {},
   "source": [
    "### Optimized Naïve Bayes with alpha = 0.715 works better than Random Forest, still doesnt out perform Logistic Regression. "
   ]
  },
  {
   "cell_type": "markdown",
   "metadata": {},
   "source": [
    " "
   ]
  },
  {
   "cell_type": "markdown",
   "metadata": {},
   "source": [
    "### Training XGBoost"
   ]
  },
  {
   "cell_type": "code",
   "execution_count": 223,
   "metadata": {},
   "outputs": [
    {
     "name": "stdout",
     "output_type": "stream",
     "text": [
      "0.9233\n",
      "[[8979   10]\n",
      " [ 757  254]]\n",
      "F1 score:  0.3984313725490196\n",
      "Precision score:  0.9621212121212122\n",
      "Recall score:  0.2512363996043521\n"
     ]
    }
   ],
   "source": [
    "from xgboost import XGBClassifier\n",
    "\n",
    "xgb = XGBClassifier(learning_rate=0.01,n_estimators=200 )\n",
    "\n",
    "xgb_bow_pipe = make_pipeline(vect , xgb)\n",
    "\n",
    "xgb_bow_pipe.fit(X_train , y_train)\n",
    "\n",
    "xgb_bow_prediction = xgb_bow_pipe.predict(X_test)\n",
    "\n",
    "print (metrics.accuracy_score(y_test , xgb_bow_prediction))\n",
    "\n",
    "print (metrics.confusion_matrix(y_test , xgb_bow_prediction))\n",
    "\n",
    "print(\"F1 score: \", metrics.f1_score(y_test , xgb_bow_prediction))\n",
    "\n",
    "print(\"Precision score: \" , metrics.precision_score(y_test , xgb_bow_prediction))\n",
    "\n",
    "print(\"Recall score: \" , metrics.recall_score(y_test , xgb_bow_prediction))"
   ]
  },
  {
   "cell_type": "markdown",
   "metadata": {},
   "source": [
    "### Without hyper-parameter tuning, model performs poorly. We have very high number of False Negative. "
   ]
  },
  {
   "cell_type": "markdown",
   "metadata": {},
   "source": [
    " "
   ]
  },
  {
   "cell_type": "markdown",
   "metadata": {},
   "source": [
    "### Hyper-parameter tuning to optimize XGBoost through Randoomized Search"
   ]
  },
  {
   "cell_type": "markdown",
   "metadata": {},
   "source": [
    "P.S: The run time was unexpectedly high, so I decided to split the process into smaller steps, as each step performs tunnign on one parameter. "
   ]
  },
  {
   "cell_type": "code",
   "execution_count": 302,
   "metadata": {},
   "outputs": [],
   "source": [
    "param_grid = {\"xgbclassifier__learning_rate\"    : [0.05, 0.10, 0.15, 0.20, 0.25, 0.30 ] ,\n",
    " \"xgbclassifier__max_depth\"        : [ 3, 4, 5, 6, 8, 10, 12, 15],\n",
    " \"xgbclassifier__min_child_weight\" : [ 1, 3, 5, 7 ],\n",
    " \"xgbclassifier__gamma\"            : [ 0.0, 0.1, 0.2 , 0.3, 0.4 ],\n",
    " \"xgbclassifier__colsample_bytree\" : [ 0.3, 0.4, 0.5 , 0.7 ] }"
   ]
  },
  {
   "cell_type": "code",
   "execution_count": 217,
   "metadata": {},
   "outputs": [
    {
     "name": "stdout",
     "output_type": "stream",
     "text": [
      "CPU times: user 2min 23s, sys: 548 ms, total: 2min 24s\n",
      "Wall time: 2min 24s\n"
     ]
    }
   ],
   "source": [
    "%%time\n",
    "\n",
    "param_grid = {\n",
    "    \"xgbclassifier__learning_rate\" : [0.05, 0.10, 0.15, 0.20, 0.25, 0.30 ] ,\n",
    " }\n",
    "\n",
    "xgb = XGBClassifier()\n",
    "\n",
    "xgb_bow_pipe = make_pipeline(vect , xgb)\n",
    "\n",
    "grid = GridSearchCV(xgb_bow_pipe , param_grid , cv= 5 , scoring= 'recall')\n",
    "\n",
    "grid.fit(X_train , y_train)"
   ]
  },
  {
   "cell_type": "code",
   "execution_count": 218,
   "metadata": {},
   "outputs": [
    {
     "data": {
      "text/plain": [
       "{'xgbclassifier__learning_rate': 0.3}"
      ]
     },
     "execution_count": 218,
     "metadata": {},
     "output_type": "execute_result"
    }
   ],
   "source": [
    "grid.best_params_"
   ]
  },
  {
   "cell_type": "code",
   "execution_count": 219,
   "metadata": {},
   "outputs": [
    {
     "data": {
      "text/plain": [
       "GridSearchCV(cv=5, error_score='raise-deprecating',\n",
       "       estimator=Pipeline(memory=None,\n",
       "     steps=[('countvectorizer', CountVectorizer(analyzer='word', binary=False, decode_error='strict',\n",
       "        dtype=<class 'numpy.int64'>, encoding='utf-8', input='content',\n",
       "        lowercase=True, max_df=1.0, max_features=None, min_df=5,\n",
       "        ngram_range=(1, 1), preprocessor=None, stop_words=None,\n",
       "  ...\n",
       "       reg_alpha=0, reg_lambda=1, scale_pos_weight=1, seed=None,\n",
       "       silent=True, subsample=1))]),\n",
       "       fit_params=None, iid='warn', n_jobs=None,\n",
       "       param_grid={'xgbclassifier__max_depth': [3, 4, 5, 6, 8, 10, 12, 15]},\n",
       "       pre_dispatch='2*n_jobs', refit=True, return_train_score='warn',\n",
       "       scoring='recall', verbose=0)"
      ]
     },
     "execution_count": 219,
     "metadata": {},
     "output_type": "execute_result"
    }
   ],
   "source": [
    "param_grid = {\n",
    " \"xgbclassifier__max_depth\" : [ 3, 4, 5, 6, 8, 10, 12, 15] }\n",
    "\n",
    "xgb = XGBClassifier(learning_rate=0.3)\n",
    "grid = GridSearchCV(xgb_bow_pipe , param_grid , cv= 5 , scoring= 'recall')\n",
    "\n",
    "grid.fit(X_train , y_train)"
   ]
  },
  {
   "cell_type": "code",
   "execution_count": 220,
   "metadata": {},
   "outputs": [
    {
     "data": {
      "text/plain": [
       "0.5215555840110736"
      ]
     },
     "execution_count": 220,
     "metadata": {},
     "output_type": "execute_result"
    }
   ],
   "source": [
    "grid.best_score_"
   ]
  },
  {
   "cell_type": "code",
   "execution_count": 221,
   "metadata": {},
   "outputs": [
    {
     "data": {
      "text/plain": [
       "{'xgbclassifier__max_depth': 15}"
      ]
     },
     "execution_count": 221,
     "metadata": {},
     "output_type": "execute_result"
    }
   ],
   "source": [
    "grid.best_params_"
   ]
  },
  {
   "cell_type": "code",
   "execution_count": 183,
   "metadata": {},
   "outputs": [
    {
     "data": {
      "text/plain": [
       "GridSearchCV(cv=5, error_score='raise-deprecating',\n",
       "       estimator=Pipeline(memory=None,\n",
       "     steps=[('tfidfvectorizer', TfidfVectorizer(analyzer='word', binary=False, decode_error='strict',\n",
       "        dtype=<class 'numpy.float64'>, encoding='utf-8', input='content',\n",
       "        lowercase=True, max_df=1.0, max_features=None, min_df=5,\n",
       "        ngram_range=(1, 1), norm='l2', preprocessor=None, smooth...\n",
       "       reg_alpha=0, reg_lambda=1, scale_pos_weight=1, seed=None,\n",
       "       silent=True, subsample=1))]),\n",
       "       fit_params=None, iid='warn', n_jobs=None,\n",
       "       param_grid={'xgbclassifier__min_child_weight': [1, 3, 5, 7]},\n",
       "       pre_dispatch='2*n_jobs', refit=True, return_train_score='warn',\n",
       "       scoring='f1', verbose=0)"
      ]
     },
     "execution_count": 183,
     "metadata": {},
     "output_type": "execute_result"
    }
   ],
   "source": [
    "param_grid = {\n",
    "    \"xgbclassifier__min_child_weight\" : [ 1, 3, 5, 7 ]}\n",
    "\n",
    "xgb = XGBClassifier(learning_rate=0.3 , max_depth= 15)\n",
    "grid = GridSearchCV(xgb_bow_pipe , param_grid , cv= 5 , scoring= 'f1')\n",
    "\n",
    "grid.fit(X_train , y_train)"
   ]
  },
  {
   "cell_type": "code",
   "execution_count": 184,
   "metadata": {},
   "outputs": [
    {
     "data": {
      "text/plain": [
       "0.5762104722959444"
      ]
     },
     "execution_count": 184,
     "metadata": {},
     "output_type": "execute_result"
    }
   ],
   "source": [
    "grid.score"
   ]
  },
  {
   "cell_type": "code",
   "execution_count": 185,
   "metadata": {},
   "outputs": [
    {
     "data": {
      "text/plain": [
       "GridSearchCV(cv=5, error_score='raise-deprecating',\n",
       "       estimator=Pipeline(memory=None,\n",
       "     steps=[('tfidfvectorizer', TfidfVectorizer(analyzer='word', binary=False, decode_error='strict',\n",
       "        dtype=<class 'numpy.float64'>, encoding='utf-8', input='content',\n",
       "        lowercase=True, max_df=1.0, max_features=None, min_df=5,\n",
       "        ngram_range=(1, 1), norm='l2', preprocessor=None, smooth...\n",
       "       reg_alpha=0, reg_lambda=1, scale_pos_weight=1, seed=None,\n",
       "       silent=True, subsample=1))]),\n",
       "       fit_params=None, iid='warn', n_jobs=None,\n",
       "       param_grid={'xgbclassifier__gamma': [0.0, 0.1, 0.2, 0.3, 0.4]},\n",
       "       pre_dispatch='2*n_jobs', refit=True, return_train_score='warn',\n",
       "       scoring='f1', verbose=0)"
      ]
     },
     "execution_count": 185,
     "metadata": {},
     "output_type": "execute_result"
    }
   ],
   "source": [
    "param_grid = {\n",
    " \"xgbclassifier__gamma\"            : [ 0.0, 0.1, 0.2 , 0.3, 0.4 ] }\n",
    "\n",
    "xgb = XGBClassifier(learning_rate=0.3 , max_depth= 15)\n",
    "grid = GridSearchCV(xgb_bow_pipe , param_grid , cv= 5 , scoring= 'f1')\n",
    "\n",
    "grid.fit(X_train , y_train)"
   ]
  },
  {
   "cell_type": "code",
   "execution_count": 186,
   "metadata": {},
   "outputs": [
    {
     "data": {
      "text/plain": [
       "0.5700055338712294"
      ]
     },
     "execution_count": 186,
     "metadata": {},
     "output_type": "execute_result"
    }
   ],
   "source": [
    "grid.best_score_"
   ]
  },
  {
   "cell_type": "code",
   "execution_count": 187,
   "metadata": {},
   "outputs": [
    {
     "data": {
      "text/plain": [
       "GridSearchCV(cv=5, error_score='raise-deprecating',\n",
       "       estimator=Pipeline(memory=None,\n",
       "     steps=[('tfidfvectorizer', TfidfVectorizer(analyzer='word', binary=False, decode_error='strict',\n",
       "        dtype=<class 'numpy.float64'>, encoding='utf-8', input='content',\n",
       "        lowercase=True, max_df=1.0, max_features=None, min_df=5,\n",
       "        ngram_range=(1, 1), norm='l2', preprocessor=None, smooth...\n",
       "       reg_alpha=0, reg_lambda=1, scale_pos_weight=1, seed=None,\n",
       "       silent=True, subsample=1))]),\n",
       "       fit_params=None, iid='warn', n_jobs=None,\n",
       "       param_grid={'xgbclassifier__colsample_bytree': [0.3, 0.4, 0.5, 0.7]},\n",
       "       pre_dispatch='2*n_jobs', refit=True, return_train_score='warn',\n",
       "       scoring='f1', verbose=0)"
      ]
     },
     "execution_count": 187,
     "metadata": {},
     "output_type": "execute_result"
    }
   ],
   "source": [
    "param_grid = {\n",
    " \"xgbclassifier__colsample_bytree\" : [ 0.3, 0.4, 0.5 , 0.7 ] }\n",
    "\n",
    "xgb = XGBClassifier(learning_rate=0.3 , max_depth= 15)\n",
    "grid = GridSearchCV(xgb_bow_pipe , param_grid , cv= 5 , scoring= 'recall')\n",
    "\n",
    "grid.fit(X_train , y_train)"
   ]
  },
  {
   "cell_type": "code",
   "execution_count": 188,
   "metadata": {},
   "outputs": [
    {
     "data": {
      "text/plain": [
       "0.5656195544254697"
      ]
     },
     "execution_count": 188,
     "metadata": {},
     "output_type": "execute_result"
    }
   ],
   "source": [
    "grid.best_score_"
   ]
  },
  {
   "cell_type": "code",
   "execution_count": 216,
   "metadata": {},
   "outputs": [
    {
     "name": "stdout",
     "output_type": "stream",
     "text": [
      "0.9537\n",
      "[[8915   74]\n",
      " [ 389  622]]\n",
      "F1 score:  0.7287639132981838\n",
      "Precision score:  0.8936781609195402\n",
      "Recall score:  0.6152324431256182\n"
     ]
    }
   ],
   "source": [
    "from xgboost import XGBClassifier\n",
    "\n",
    "xgb = XGBClassifier(learning_rate=0.3 , max_depth= 15 , n_estimators= 200 )\n",
    "\n",
    "xgb_tfid_pipe = make_pipeline(tfid , xgb)\n",
    "\n",
    "xgb_tfid_pipe.fit(X_train , y_train)\n",
    "\n",
    "xgb_tfid_prediction = xgb_tfid_pipe.predict(X_test)\n",
    "\n",
    "print (metrics.accuracy_score(y_test , xgb_tfid_prediction))\n",
    "\n",
    "print (metrics.confusion_matrix(y_test , xgb_tfid_prediction))\n",
    "\n",
    "print(\"F1 score: \", metrics.f1_score(y_test , xgb_tfid_prediction))\n",
    "\n",
    "print(\"Precision score: \" , metrics.precision_score(y_test , xgb_tfid_prediction))\n",
    "\n",
    "print (\"Recall score: \", metrics.recall_score(y_test , xgb_tfid_prediction))"
   ]
  },
  {
   "cell_type": "code",
   "execution_count": 213,
   "metadata": {},
   "outputs": [
    {
     "name": "stdout",
     "output_type": "stream",
     "text": [
      "0.9518\n",
      "[[8889  100]\n",
      " [ 382  629]]\n",
      "F1 score:  0.7229885057471263\n",
      "Precision score:  0.8628257887517147\n",
      "Recall score:  0.6221562809099901\n"
     ]
    }
   ],
   "source": [
    "xgb = XGBClassifier(learning_rate=0.3 , max_depth= 15 , n_estimators= 200 )\n",
    "\n",
    "xgb_bow_pipe = make_pipeline(vect , xgb)\n",
    "\n",
    "xgb_bow_pipe.fit(X_train , y_train)\n",
    "\n",
    "xgb_bow_prediction = xgb_bow_pipe.predict(X_test)\n",
    "\n",
    "print (metrics.accuracy_score(y_test , xgb_bow_prediction))\n",
    "\n",
    "print (metrics.confusion_matrix(y_test , xgb_bow_prediction))\n",
    "\n",
    "print(\"F1 score: \", metrics.f1_score(y_test , xgb_bow_prediction))\n",
    "\n",
    "print(\"Precision score: \" , metrics.precision_score(y_test , xgb_bow_prediction))\n",
    "\n",
    "print(\"Recall score: \" , metrics.recall_score(y_test , xgb_bow_prediction))"
   ]
  },
  {
   "cell_type": "markdown",
   "metadata": {},
   "source": [
    "### We see a great improvement after tunning 3 parameters \"learning_rate\", \"max_depth\" and \"n_estimators\". However, model still doesn't out perform Logistic Regression. "
   ]
  },
  {
   "cell_type": "markdown",
   "metadata": {},
   "source": [
    " "
   ]
  },
  {
   "cell_type": "code",
   "execution_count": 211,
   "metadata": {},
   "outputs": [
    {
     "data": {
      "image/png": "[encoded data removed]",
      "text/plain": [
       "<Figure size 1152x864 with 1 Axes>"
      ]
     },
     "metadata": {
      "needs_background": "light"
     },
     "output_type": "display_data"
    }
   ],
   "source": [
    "from sklearn.metrics import roc_curve, roc_auc_score\n",
    "\n",
    "lr_fp, lr_tpr, lr_thresholds  = roc_curve(y_test, smote_predict)\n",
    "svm_fp, svm_tpr, svm_thresholds  = roc_curve(y_test, xgb_bow_prediction)\n",
    "nb_fp, nb_tpr, nb_thresholds  = roc_curve(y_test, nb_bow_predction)\n",
    "rf_fp, rf_tpr, rf_thresholds  = roc_curve(y_test, rfc_tfid_prediction)\n",
    "plt.figure(figsize= (16 , 12))\n",
    "plt.plot([0,1], [0,1], 'k--' , )\n",
    "plt.plot(lr_fp, lr_tpr, label='Logistic Regression')\n",
    "plt.plot(svm_fp, svm_tpr, label='XGBClassifier')\n",
    "plt.plot(nb_fp, nb_tpr, label='Naive Bayes')\n",
    "plt.plot(rf_fp, rf_tpr, label='Random Forest')\n",
    "plt.xlabel('False Positive Rate')\n",
    "plt.ylabel('True Positive Rate')\n",
    "plt.title('ROC Curve')\n",
    "plt.grid(True)\n",
    "plt.legend()\n",
    "plt.show()"
   ]
  },
  {
   "cell_type": "code",
   "execution_count": 305,
   "metadata": {},
   "outputs": [],
   "source": [
    "lr = roc_auc_score(y_test, smote_predict) \n",
    "xgb = roc_auc_score(y_test, xgb_bow_prediction)\n",
    "nb = roc_auc_score(y_test, nb_bow_predction)\n",
    "rfc = roc_auc_score(y_test, rfc_tfid_prediction)"
   ]
  },
  {
   "cell_type": "code",
   "execution_count": 307,
   "metadata": {},
   "outputs": [
    {
     "name": "stderr",
     "output_type": "stream",
     "text": [
      "/anaconda3/lib/python3.7/site-packages/IPython/core/display.py:689: UserWarning:\n",
      "\n",
      "Consider using IPython.display.IFrame instead\n",
      "\n"
     ]
    },
    {
     "data": {
      "text/html": [
       "<iframe id=\"igraph\" scrolling=\"no\" style=\"border:none;\" seamless=\"seamless\" src=\"https://plot.ly/~nehrmegar/38.embed\" height=\"525px\" width=\"100%\"></iframe>"
      ],
      "text/plain": [
       "<plotly.tools.PlotlyDisplay object>"
      ]
     },
     "execution_count": 307,
     "metadata": {},
     "output_type": "execute_result"
    }
   ],
   "source": [
    "import cufflinks as cf\n",
    "import plotly\n",
    "plotly.tools.set_credentials_file(username='nehrmegar', api_key='Ssb3HL4agEFKnGpftCV8')\n",
    "import plotly.graph_objs as go\n",
    "import plotly.plotly as py\n",
    "\n",
    "data = [go.Bar(\n",
    "            x=['Logistic Regression', 'XGBClassifier', 'Naive Bayes', 'Random Forest'],\n",
    "            y=[lr, xgb, nb, rfc]\n",
    "    )]\n",
    "\n",
    "py.iplot(data, filename='basic-bar')"
   ]
  },
  {
   "cell_type": "code",
   "execution_count": 308,
   "metadata": {},
   "outputs": [],
   "source": [
    "lr_recall = metrics.recall_score(y_test, smote_predict) \n",
    "xgb_recall = metrics.recall_score(y_test, xgb_bow_prediction)\n",
    "nb_recall = metrics.recall_score(y_test, nb_bow_predction)\n",
    "rfc_recall = metrics.recall_score(y_test, rfc_tfid_prediction)"
   ]
  },
  {
   "cell_type": "code",
   "execution_count": 315,
   "metadata": {},
   "outputs": [
    {
     "name": "stderr",
     "output_type": "stream",
     "text": [
      "/anaconda3/lib/python3.7/site-packages/IPython/core/display.py:689: UserWarning:\n",
      "\n",
      "Consider using IPython.display.IFrame instead\n",
      "\n"
     ]
    },
    {
     "data": {
      "text/html": [
       "<iframe id=\"igraph\" scrolling=\"no\" style=\"border:none;\" seamless=\"seamless\" src=\"https://plot.ly/~nehrmegar/44.embed\" height=\"525px\" width=\"100%\"></iframe>"
      ],
      "text/plain": [
       "<plotly.tools.PlotlyDisplay object>"
      ]
     },
     "execution_count": 315,
     "metadata": {},
     "output_type": "execute_result"
    }
   ],
   "source": [
    "data = [go.Bar(\n",
    "            x=['Logistic Regression', 'XGBClassifier', 'Naive Bayes', 'Random Forest'],\n",
    "            y=[lr_recall, xgb_recall, nb_recall, rfc_recall]\n",
    "    )]\n",
    "\n",
    "layout = go.Layout(\n",
    "    title = \"Comparing Recall Values\" )\n",
    "fig = go.Figure(data=data,layout=layout )\n",
    "py.iplot(fig )"
   ]
  },
  {
   "cell_type": "markdown",
   "metadata": {},
   "source": [
    "\n",
    "### Even Though Naïve Bayes has a slightly higher auc, but the key indicator of performance for us in this case is the number of False Negatives and the best result is from Logistic Regression - SMOTE with 0.90% accuracy and 279 False Negative predictions. "
   ]
  },
  {
   "cell_type": "markdown",
   "metadata": {},
   "source": [
    "### Logistic Regression - SMOTE with bag of words\n",
    "#### Accuracy : 0.8966\n",
    "#### Confusion Matrix: \n",
    "#### [[8234  755]\n",
    "#### [ 279  732]]\n",
    "#### F1 score:  0.5860688550840673\n",
    "#### Precision score:  0.49226630800269\n",
    "#### Recall score:  0.7240356083086054\n"
   ]
  },
  {
   "cell_type": "code",
   "execution_count": null,
   "metadata": {},
   "outputs": [],
   "source": []
  }
 ],
 "metadata": {
  "kernelspec": {
   "display_name": "Python 3",
   "language": "python",
   "name": "python3"
  },
  "language_info": {
   "codemirror_mode": {
    "name": "ipython",
    "version": 3
   },
   "file_extension": ".py",
   "mimetype": "text/x-python",
   "name": "python",
   "nbconvert_exporter": "python",
   "pygments_lexer": "ipython3",
   "version": "3.7.1"
  }
 },
 "nbformat": 4,
 "nbformat_minor": 2
}
